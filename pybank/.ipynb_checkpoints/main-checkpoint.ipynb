{
 "cells": [
  {
   "cell_type": "code",
   "execution_count": 8,
   "id": "92a56897-36e3-4b59-9066-8cb873f781f6",
   "metadata": {},
   "outputs": [
    {
     "name": "stdout",
     "output_type": "stream",
     "text": [
      "['Date', 'Profit/Losses'] <---- HEADER\n"
     ]
    },
    {
     "data": {
      "text/plain": [
       "86"
      ]
     },
     "execution_count": 8,
     "metadata": {},
     "output_type": "execute_result"
    }
   ],
   "source": [
    "# Import the pathlib and csv library\n",
    "from pathlib import Path\n",
    "import csv\n",
    "\n",
    "# Set the file path\n",
    "csvpath = Path('Resources/budget_data.csv')\n",
    "\n",
    "# Initialize variable to hold salaries\n",
    "pllist = []\n",
    "\n",
    "# Initialize line_num variable\n",
    "line_num = 0\n",
    "\n",
    "# Open the input path as a file object\n",
    "with open(csvpath, 'r') as csvfile:\n",
    "\n",
    "    \n",
    "\n",
    "    # Pass in the csv file to the csv.reader() function\n",
    "    # (with ',' as the delmiter/separator) and return the csvreader object\n",
    "    csvreader = csv.reader(csvfile, delimiter=',') \n",
    "\n",
    "    # Go to the next row from the start of the file\n",
    "    # (which is often the first row/header) and iterate line_num by 1\n",
    "    header = next(csvreader)\n",
    "    line_num += 1\n",
    "    # Print the header\n",
    "    print(f\"{header} <---- HEADER\")\n",
    "\n",
    "    # Read each row of data after the header\n",
    "    for row in csvreader:\n",
    "        # Print the row\n",
    "        #print(row)\n",
    "        # Set salary variable equal to the value in the 4th column of each row\n",
    "        pl = int(row[1])\n",
    "        # Append the row salary value to the list of salaries\n",
    "        pllist.append(pl)\n",
    "len(pllist)"
   ]
  },
  {
   "cell_type": "code",
   "execution_count": 6,
   "id": "f936b68a",
   "metadata": {},
   "outputs": [],
   "source": [
    "input_file = Path ('Resources/budget_data.csv')"
   ]
  },
  {
   "cell_type": "code",
   "execution_count": null,
   "id": "d2fb3fec",
   "metadata": {},
   "outputs": [],
   "source": []
  },
  {
   "cell_type": "code",
   "execution_count": null,
   "id": "ee2b301e-f60b-4e07-9919-ad4637e5ffcc",
   "metadata": {},
   "outputs": [],
   "source": []
  },
  {
   "cell_type": "code",
   "execution_count": null,
   "id": "db208273-5f2f-43ed-bbc9-247884b37149",
   "metadata": {},
   "outputs": [],
   "source": []
  }
 ],
 "metadata": {
  "kernelspec": {
   "display_name": "Python 3 (ipykernel)",
   "language": "python",
   "name": "python3"
  },
  "language_info": {
   "codemirror_mode": {
    "name": "ipython",
    "version": 3
   },
   "file_extension": ".py",
   "mimetype": "text/x-python",
   "name": "python",
   "nbconvert_exporter": "python",
   "pygments_lexer": "ipython3",
   "version": "3.10.10"
  }
 },
 "nbformat": 4,
 "nbformat_minor": 5
}
