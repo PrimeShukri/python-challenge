{
 "cells": [
  {
   "cell_type": "code",
   "execution_count": 2,
   "id": "8040eb86-a103-4be1-9a3c-01e511d12786",
   "metadata": {},
   "outputs": [],
   "source": [
    "# Import the pathlib and csv library\n",
    "import pandas as pd"
   ]
  },
  {
   "cell_type": "code",
   "execution_count": 3,
   "id": "cdcfc033-6e7a-4df3-b5da-35f632da63d3",
   "metadata": {},
   "outputs": [
    {
     "data": {
      "text/html": [
       "<div>\n",
       "<style scoped>\n",
       "    .dataframe tbody tr th:only-of-type {\n",
       "        vertical-align: middle;\n",
       "    }\n",
       "\n",
       "    .dataframe tbody tr th {\n",
       "        vertical-align: top;\n",
       "    }\n",
       "\n",
       "    .dataframe thead th {\n",
       "        text-align: right;\n",
       "    }\n",
       "</style>\n",
       "<table border=\"1\" class=\"dataframe\">\n",
       "  <thead>\n",
       "    <tr style=\"text-align: right;\">\n",
       "      <th></th>\n",
       "      <th>Date</th>\n",
       "      <th>Profit/Losses</th>\n",
       "    </tr>\n",
       "  </thead>\n",
       "  <tbody>\n",
       "    <tr>\n",
       "      <th>0</th>\n",
       "      <td>Jan-2010</td>\n",
       "      <td>867884</td>\n",
       "    </tr>\n",
       "    <tr>\n",
       "      <th>1</th>\n",
       "      <td>Feb-2010</td>\n",
       "      <td>984655</td>\n",
       "    </tr>\n",
       "    <tr>\n",
       "      <th>2</th>\n",
       "      <td>Mar-2010</td>\n",
       "      <td>322013</td>\n",
       "    </tr>\n",
       "    <tr>\n",
       "      <th>3</th>\n",
       "      <td>Apr-2010</td>\n",
       "      <td>-69417</td>\n",
       "    </tr>\n",
       "    <tr>\n",
       "      <th>4</th>\n",
       "      <td>May-2010</td>\n",
       "      <td>310503</td>\n",
       "    </tr>\n",
       "  </tbody>\n",
       "</table>\n",
       "</div>"
      ],
      "text/plain": [
       "       Date  Profit/Losses\n",
       "0  Jan-2010         867884\n",
       "1  Feb-2010         984655\n",
       "2  Mar-2010         322013\n",
       "3  Apr-2010         -69417\n",
       "4  May-2010         310503"
      ]
     },
     "execution_count": 3,
     "metadata": {},
     "output_type": "execute_result"
    }
   ],
   "source": [
    "# Set dataframe variable\n",
    "budget_df = pd.read_csv('budget_data.csv')\n",
    "budget_df.head()"
   ]
  },
  {
   "cell_type": "code",
   "execution_count": 4,
   "id": "9772a47c-411e-4ae7-ba85-b3295e6e9721",
   "metadata": {},
   "outputs": [
    {
     "name": "stdout",
     "output_type": "stream",
     "text": [
      "Date             0\n",
      "Profit/Losses    0\n",
      "dtype: int64\n"
     ]
    }
   ],
   "source": [
    "# Check for nulls\n",
    "null_counts = budget_df.isnull().sum()\n",
    "print(null_counts)"
   ]
  },
  {
   "cell_type": "code",
   "execution_count": 5,
   "id": "aa774ed9-e107-4111-9a4e-25cdfde97c5b",
   "metadata": {},
   "outputs": [
    {
     "name": "stdout",
     "output_type": "stream",
     "text": [
      "Total Months: 86\n"
     ]
    }
   ],
   "source": [
    "# Count the total number of months included in the dataset \n",
    "number_of_months = 0\n",
    "number_of_months =len(budget_df)\n",
    "print(f\"Total Months: {number_of_months}\")"
   ]
  },
  {
   "cell_type": "code",
   "execution_count": 6,
   "id": "f3c89a1f-3696-4735-a08e-360699e9d00c",
   "metadata": {},
   "outputs": [
    {
     "name": "stdout",
     "output_type": "stream",
     "text": [
      "Total: $38382578\n"
     ]
    }
   ],
   "source": [
    "# Find the net total amount of Profit/Losses over the entire period\n",
    "net_total_pl = 0\n",
    "net_total_pl = budget_df['Profit/Losses'].sum()\n",
    "print(f\"Total: ${net_total_pl}\")"
   ]
  },
  {
   "cell_type": "code",
   "execution_count": 7,
   "id": "31358064-2d4f-4cfc-a749-6781ebe51853",
   "metadata": {},
   "outputs": [
    {
     "name": "stdout",
     "output_type": "stream",
     "text": [
      "        Date  Profit/Losses   Shifted  Difference\n",
      "0   Jan-2010         867884       NaN         NaN\n",
      "1   Feb-2010         984655  867884.0    116771.0\n",
      "2   Mar-2010         322013  984655.0   -662642.0\n",
      "3   Apr-2010         -69417  322013.0   -391430.0\n",
      "4   May-2010         310503  -69417.0    379920.0\n",
      "..       ...            ...       ...         ...\n",
      "81  Oct-2016         102685  768450.0   -665765.0\n",
      "82  Nov-2016         795914  102685.0    693229.0\n",
      "83  Dec-2016          60988  795914.0   -734926.0\n",
      "84  Jan-2017         138230   60988.0     77242.0\n",
      "85  Feb-2017         671099  138230.0    532869.0\n",
      "\n",
      "[86 rows x 4 columns]\n"
     ]
    }
   ],
   "source": [
    "# Create a new column to store change\n",
    "budget_df['Shifted'] = budget_df['Profit/Losses'].shift(1)\n",
    "budget_df['Difference'] = budget_df['Profit/Losses'] - budget_df['Shifted']\n",
    "print(budget_df)"
   ]
  },
  {
   "cell_type": "code",
   "execution_count": 8,
   "id": "8f273aef-4bfd-4389-9b3f-2f5f4ee9a6b8",
   "metadata": {},
   "outputs": [
    {
     "name": "stdout",
     "output_type": "stream",
     "text": [
      "Average Change: $-2315.1176470588234\n"
     ]
    }
   ],
   "source": [
    "# Find the average changes in Profit/Losses over the entire period \n",
    "average_change_pl = 0\n",
    "average_change_pl = budget_df['Difference'].mean()\n",
    "print(f\"Average Change: ${average_change_pl}\")"
   ]
  },
  {
   "cell_type": "code",
   "execution_count": 9,
   "id": "c30b3057-a5fd-4e0b-bec9-414d735e1b15",
   "metadata": {},
   "outputs": [
    {
     "name": "stdout",
     "output_type": "stream",
     "text": [
      "1926159.0\n",
      "25\n",
      "Feb-2012\n",
      "Greatest Increase in Profits: Feb-2012 ($1926159)\n"
     ]
    }
   ],
   "source": [
    "# Locate the greatest increase in profits, date and amount, over the entire period\n",
    "max_amount = 0\n",
    "max_date = 0\n",
    "\n",
    "max_amount = budget_df['Difference'].max()\n",
    "print(max_amount)\n",
    "\n",
    "max_index = budget_df['Difference'].idxmax()\n",
    "print(max_index)\n",
    "\n",
    "max_date = budget_df['Date'].iloc[max_index]\n",
    "print(max_date)\n",
    "\n",
    "print(f\"Greatest Increase in Profits: {max_date} (${round(max_amount)})\")"
   ]
  },
  {
   "cell_type": "code",
   "execution_count": 10,
   "id": "0ad2ac7c-41fc-496f-a84b-b6602d1a3381",
   "metadata": {},
   "outputs": [
    {
     "name": "stdout",
     "output_type": "stream",
     "text": [
      "-2196167.0\n",
      "44\n",
      "Sep-2013\n",
      "Greatest Decrease in Profits: Sep-2013 ($-2196167)\n"
     ]
    }
   ],
   "source": [
    "# Locate the greatest decrease in profits, date and amount, over the entire period\n",
    "min_amount = 0\n",
    "min_date = 0\n",
    "\n",
    "min_amount = budget_df['Difference'].min()\n",
    "print(min_amount)\n",
    "\n",
    "min_index = budget_df['Difference'].idxmin()\n",
    "print(min_index)\n",
    "\n",
    "min_date = budget_df['Date'].iloc[min_index]\n",
    "print(min_date)\n",
    "\n",
    "print(f\"Greatest Decrease in Profits: {min_date} (${round(min_amount)})\")"
   ]
  },
  {
   "cell_type": "code",
   "execution_count": 11,
   "id": "677e3889-0d56-42c6-a11d-9ddfdf405317",
   "metadata": {},
   "outputs": [
    {
     "name": "stdout",
     "output_type": "stream",
     "text": [
      "Financial Analysis\n",
      "-------------------------------\n",
      "Total Months: 86\n",
      "Total: $38382578\n",
      "Average Change: $-2315.12\n",
      "Greatest Increase in Profits: Feb-2012 ($1926159)\n",
      "Greatest Decrease in Profits: Sep-2013 ($-2196167)\n"
     ]
    }
   ],
   "source": [
    "# Generate a print statement to summarize the financial analysis\n",
    "\n",
    "print(\"Financial Analysis\")\n",
    "print(\"-------------------------------\")\n",
    "print(f\"Total Months: {number_of_months}\")\n",
    "print(f\"Total: ${net_total_pl}\")\n",
    "print(f\"Average Change: ${round(average_change_pl, 2)}\")\n",
    "print(f\"Greatest Increase in Profits: {max_date} (${round(max_amount)})\")\n",
    "print(f\"Greatest Decrease in Profits: {min_date} (${round(min_amount)})\")"
   ]
  }
 ],
 "metadata": {
  "kernelspec": {
   "display_name": "Python 3 (ipykernel)",
   "language": "python",
   "name": "python3"
  },
  "language_info": {
   "codemirror_mode": {
    "name": "ipython",
    "version": 3
   },
   "file_extension": ".py",
   "mimetype": "text/x-python",
   "name": "python",
   "nbconvert_exporter": "python",
   "pygments_lexer": "ipython3",
   "version": "3.10.11"
  }
 },
 "nbformat": 4,
 "nbformat_minor": 5
}
