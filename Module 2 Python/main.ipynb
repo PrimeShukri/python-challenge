{
 "cells": [
  {
   "cell_type": "code",
   "execution_count": 6,
   "id": "174d95a4-fe9a-41ac-98f9-90cb15d7bc8b",
   "metadata": {},
   "outputs": [],
   "source": [
    "import csv\n",
    "from pathlib import Path"
   ]
  },
  {
   "cell_type": "code",
   "execution_count": 7,
   "id": "f683dd6d-795a-4c0b-8a8b-0d9228ca217a",
   "metadata": {},
   "outputs": [],
   "source": [
    "csvpath = Path(\"./budget_data.csv\")"
   ]
  },
  {
   "cell_type": "code",
   "execution_count": 12,
   "id": "b7fb7a1d-51b0-451c-9fb6-85996b28748a",
   "metadata": {},
   "outputs": [],
   "source": [
    "total_months = 0\n",
    "total_pnl = 0\n",
    "average_pnl = 0\n",
    "changes_list = []\n",
    "months = []\n",
    "greatest_increase = [\"\", 0]\n",
    "greatest_decrease = [\"\", 000000000]\n",
    "previous_pnl = 0"
   ]
  },
  {
   "cell_type": "code",
   "execution_count": 22,
   "id": "6aa2c0eb-274a-490e-a230-9e65532c0e69",
   "metadata": {},
   "outputs": [],
   "source": [
    "with open(csvpath) as data:\n",
    "    csvreader = csv.reader(data)\n",
    "    header = next(csvreader)\n",
    "    first_row = next(csvreader) \n",
    "    total_months = total_months + 1\n",
    "    total_pnl = total_pnl + int(first_row[1])\n",
    "    previous_pnl = int(first_row[1])\n",
    "    for row in csvreader:\n",
    "        total_months = total_months + 1\n",
    "        total_pnl = total_pnl + int(row[1])\n",
    "        change_pnl = int(row[1]) - previous_pnl\n",
    "        changes_list.append(change_pnl)\n",
    "        previous_pnl = int(row[1])\n",
    "average = sum(changes_list) / len(changes_list)\n",
    "greatest_increase = max(changes_list)\n",
    "greatest_decrease = min(changes_list)"
   ]
  },
  {
   "cell_type": "code",
   "execution_count": 5,
   "id": "822be957-d41d-4541-9b6b-fad1ceb4d8a9",
   "metadata": {},
   "outputs": [
    {
     "data": {
      "text/plain": [
       "86"
      ]
     },
     "execution_count": 5,
     "metadata": {},
     "output_type": "execute_result"
    }
   ],
   "source": [
    "total_months"
   ]
  },
  {
   "cell_type": "code",
   "execution_count": 6,
   "id": "f49752f7-9c55-4e96-8182-d46f3d25957b",
   "metadata": {},
   "outputs": [
    {
     "data": {
      "text/plain": [
       "38382578"
      ]
     },
     "execution_count": 6,
     "metadata": {},
     "output_type": "execute_result"
    }
   ],
   "source": [
    "total_pnl"
   ]
  },
  {
   "cell_type": "code",
   "execution_count": 7,
   "id": "93123acb-9157-45b6-933f-c8e2b784c0b1",
   "metadata": {},
   "outputs": [
    {
     "data": {
      "text/plain": [
       "-2315.1176470588234"
      ]
     },
     "execution_count": 7,
     "metadata": {},
     "output_type": "execute_result"
    }
   ],
   "source": [
    "average"
   ]
  },
  {
   "cell_type": "code",
   "execution_count": 25,
   "id": "c9c2a4f5-36d8-45c8-82eb-59862c379e79",
   "metadata": {},
   "outputs": [
    {
     "data": {
      "text/plain": [
       "1926159"
      ]
     },
     "execution_count": 25,
     "metadata": {},
     "output_type": "execute_result"
    }
   ],
   "source": [
    "greatest_increase"
   ]
  },
  {
   "cell_type": "code",
   "execution_count": 26,
   "id": "9003266f-9888-4ca6-a514-652da96a3c48",
   "metadata": {},
   "outputs": [
    {
     "data": {
      "text/plain": [
       "-2196167"
      ]
     },
     "execution_count": 26,
     "metadata": {},
     "output_type": "execute_result"
    }
   ],
   "source": [
    "greatest_decrease"
   ]
  },
  {
   "cell_type": "code",
   "execution_count": null,
   "id": "f13db9f5-0e73-4065-8015-72f9ff1cc2a0",
   "metadata": {},
   "outputs": [],
   "source": []
  }
 ],
 "metadata": {
  "kernelspec": {
   "display_name": "Python 3 (ipykernel)",
   "language": "python",
   "name": "python3"
  },
  "language_info": {
   "codemirror_mode": {
    "name": "ipython",
    "version": 3
   },
   "file_extension": ".py",
   "mimetype": "text/x-python",
   "name": "python",
   "nbconvert_exporter": "python",
   "pygments_lexer": "ipython3",
   "version": "3.10.10"
  }
 },
 "nbformat": 4,
 "nbformat_minor": 5
}
